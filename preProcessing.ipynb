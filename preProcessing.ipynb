{
 "metadata": {
  "language_info": {
   "codemirror_mode": {
    "name": "ipython",
    "version": 3
   },
   "file_extension": ".py",
   "mimetype": "text/x-python",
   "name": "python",
   "nbconvert_exporter": "python",
   "pygments_lexer": "ipython3",
   "version": "3.7.9-final"
  },
  "orig_nbformat": 2,
  "kernelspec": {
   "name": "python3",
   "display_name": "Python 3"
  }
 },
 "nbformat": 4,
 "nbformat_minor": 2,
 "cells": [
  {
   "cell_type": "code",
   "execution_count": 1,
   "metadata": {},
   "outputs": [],
   "source": [
    "import os "
   ]
  },
  {
   "cell_type": "code",
   "execution_count": 10,
   "metadata": {},
   "outputs": [],
   "source": [
    "dir_path = os.path.abspath('')\n",
    "dataset_folder = os.path.join(dir_path,'Dataset')\n",
    "training_folder = os.path.join(dataset_folder,'training')\n",
    "validation_folder = os.path.join(dataset_folder,'validation')\n",
    "evaluation_folder = os.path.join(dataset_folder,'evaluation')"
   ]
  },
  {
   "cell_type": "code",
   "execution_count": 12,
   "metadata": {},
   "outputs": [
    {
     "output_type": "stream",
     "name": "stdout",
     "text": [
      "[WinError 183] Cannot create a file when that file already exists: 'd:\\\\CS\\\\Project\\\\Computer Vision With DL\\\\Food or Not Food\\\\Dataset\\\\training\\\\Not Food'\n"
     ]
    }
   ],
   "source": [
    "folder_name = [r'\\Not Food',r'\\Food']\n",
    "try:\n",
    "    os.mkdir(training_folder+folder_name[0])\n",
    "    os.mkdir(training_folder+folder_name[1])\n",
    "    os.mkdir(validation_folder+folder_name[0])\n",
    "    os.mkdir(validation_folder+folder_name[1])\n",
    "    os.mkdir(evaluation_folder+folder_name[0])\n",
    "    os.mkdir(evaluation_folder+folder_name[1])\n",
    "except FileExistsError as fee:\n",
    "    print(fee)"
   ]
  },
  {
   "cell_type": "code",
   "execution_count": 22,
   "metadata": {
    "tags": []
   },
   "outputs": [],
   "source": [
    "from shutil import move\n",
    "evaluation_files = os.listdir(evaluation_folder)\n",
    "os.chdir(evaluation_folder)\n",
    "for filename in evaluation_files:\n",
    "    if filename.startswith('0'):\n",
    "        move(filename,evaluation_folder+folder_name[0])\n",
    "    elif filename.startswith('1'):\n",
    "        move(filename,evaluation_folder+folder_name[1])\n",
    "    else:\n",
    "        pass"
   ]
  },
  {
   "cell_type": "code",
   "execution_count": 23,
   "metadata": {},
   "outputs": [],
   "source": [
    "training_files = os.listdir(training_folder)\n",
    "os.chdir(training_folder)\n",
    "for filename in training_files:\n",
    "    if filename.startswith('0'):\n",
    "        move(filename,training_folder+folder_name[0])\n",
    "    elif filename.startswith('1'):\n",
    "        move(filename,training_folder+folder_name[1])\n",
    "    else:\n",
    "        pass"
   ]
  },
  {
   "cell_type": "code",
   "execution_count": 24,
   "metadata": {},
   "outputs": [],
   "source": [
    "validation_files = os.listdir(validation_folder)\n",
    "os.chdir(validation_folder)\n",
    "for filename in validation_files:\n",
    "    if filename.startswith('0'):\n",
    "        move(filename,validation_folder+folder_name[0])\n",
    "    elif filename.startswith('1'):\n",
    "        move(filename,validation_folder+folder_name[1])\n",
    "    else:\n",
    "        pass"
   ]
  },
  {
   "cell_type": "code",
   "execution_count": null,
   "metadata": {},
   "outputs": [],
   "source": []
  }
 ]
}